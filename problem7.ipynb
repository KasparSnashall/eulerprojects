{
 "metadata": {
  "name": "",
  "signature": "sha256:01a850d8153a80416851436f4dc109d73a38d52e2b3fd3516cc892153bbc69f3"
 },
 "nbformat": 3,
 "nbformat_minor": 0,
 "worksheets": [
  {
   "cells": [
    {
     "cell_type": "heading",
     "level": 1,
     "metadata": {},
     "source": [
      "Prime number generator"
     ]
    },
    {
     "cell_type": "code",
     "collapsed": false,
     "input": [
      "import sys\n",
      "primer = []\n",
      "\n",
      "def checkprime():\n",
      "    prime=0\n",
      "    number = 3\n",
      "    numbersbefore = [2]\n",
      "    \n",
      "    \n",
      "    def any_lambda(iterable, function):\n",
      "            return any(function(i) for i in iterable)\n",
      "    \n",
      "    while prime <10002:\n",
      "        \n",
      "        question = any_lambda(numbersbefore,lambda e:  (number%e) == 0)\n",
      "        \n",
      "        if question == False: \n",
      "            prime+=1\n",
      "            primer.append(number)\n",
      "            numbersbefore.append(number)\n",
      "            number +=1\n",
      "        \n",
      "        elif question == True:\n",
      "            numbersbefore.append(number)\n",
      "            number+=1\n",
      "       "
     ],
     "language": "python",
     "metadata": {},
     "outputs": [],
     "prompt_number": 1
    },
    {
     "cell_type": "code",
     "collapsed": false,
     "input": [
      "checkprime()"
     ],
     "language": "python",
     "metadata": {},
     "outputs": [],
     "prompt_number": 2
    },
    {
     "cell_type": "code",
     "collapsed": false,
     "input": [
      "print primer[9999] \n",
      "    "
     ],
     "language": "python",
     "metadata": {},
     "outputs": [
      {
       "output_type": "stream",
       "stream": "stdout",
       "text": [
        "104743\n"
       ]
      }
     ],
     "prompt_number": 3
    },
    {
     "cell_type": "markdown",
     "metadata": {},
     "source": [
      "A few things to note the run time is fairly long and also i forgot that the first prime is 2, thought I wouldnt really consider it so as the only nuber before it is one and since my definition is the remainder of division by any number before is zero so I dont divide by one as this would always be true.\n"
     ]
    }
   ],
   "metadata": {}
  }
 ]
}